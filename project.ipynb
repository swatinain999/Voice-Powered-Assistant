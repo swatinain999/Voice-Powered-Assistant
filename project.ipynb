import pyttsx3
import datetime
import speech_recognition as sr
import wikipedia
import pywhatkit
import webbrowser
import os

# Initialize text-to-speech engine
engine = pyttsx3.init("sapi5")
voices = engine.getProperty("voices")
engine.setProperty("voice", voices[1].id)
engine.setProperty("rate", 180)  # Balanced speech rate

def speak(audio):
    engine.say(audio)
    engine.runAndWait()

# Function to greet user based on time of day
def greetMe():
    hour = datetime.datetime.now().hour
    if hour < 12:
        greeting = "Good morning"
    elif 12 <= hour < 18:
        greeting = "Good afternoon"
    else:
        greeting = "Good evening"

    speak(f"{greeting}, Swati! I hope you're having a great day.")
    speak("How can I assist you today?")

# Function for speech recognition
def takeCommand():
    r = sr.Recognizer()
    with sr.Microphone() as source:
        print("Listening...")
        r.pause_threshold = 1
        r.energy_threshold = 300
        audio = r.listen(source, timeout=4)

    try:
        print("Understanding...")
        query = r.recognize_google(audio, language='en-in')
        print(f"You said: {query}\n")
    except Exception:
        print("Could not understand. Please try again.")
        return ""
    return query.lower()

# Function for Google search
def searchGoogle(query):
    query = query.replace("google", "").strip()
    speak(f"Searching Google for {query}")
    pywhatkit.search(query)
    try:
        result = wikipedia.summary(query, sentences=1)
        speak(result)
    except:
        speak("No speakable output available.")

# Function for YouTube search
def searchYoutube(query):
    query = query.replace("youtube", "").strip()
    speak(f"Searching YouTube for {query}")
    webbrowser.open(f"https://www.youtube.com/results?search_query={query}")
    pywhatkit.playonyt(query)

# Function for Wikipedia search
def searchWikipedia(query):
    query = query.replace("wikipedia", "").strip()
    speak(f"Searching Wikipedia for {query}")
    result = wikipedia.summary(query, sentences=2)
    speak(result)
    print(result)

# Main Execution
if __name__ == "__main__":
    greetMe()
    while True:
        query = takeCommand()

        if "google" in query:
            searchGoogle(query)
        elif "youtube" in query:
            searchYoutube(query)
        elif "wikipedia" in query:
            searchWikipedia(query)
        elif "exit" in query or "stop" in query:
            speak("Goodbye, Swati! Have a great day.")
            break
